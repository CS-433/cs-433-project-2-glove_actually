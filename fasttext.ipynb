{
 "cells": [
  {
   "cell_type": "code",
   "execution_count": 4,
   "metadata": {},
   "outputs": [],
   "source": [
    "#SETUP - You need these only the first time you run the code\n",
    "#!git clone https://github.com/facebookresearch/fastText.git\n",
    "#cd fastText\n",
    "#!make"
   ]
  },
  {
   "cell_type": "code",
   "execution_count": 5,
   "metadata": {},
   "outputs": [],
   "source": [
    "#nltk.download('averaged_perceptron_tagger')\n",
    "#nltk.download('wordnet')"
   ]
  },
  {
   "cell_type": "code",
   "execution_count": 6,
   "metadata": {},
   "outputs": [],
   "source": [
    "import fasttext\n",
    "import pandas as pd\n",
    "import numpy as np\n",
    "import ft_helpers as fth\n",
    "import preprocessing as pp\n",
    "import nltk"
   ]
  },
  {
   "cell_type": "code",
   "execution_count": 7,
   "metadata": {},
   "outputs": [],
   "source": [
    "#help(fasttext.FastText)"
   ]
  },
  {
   "cell_type": "code",
   "execution_count": 5,
   "metadata": {},
   "outputs": [],
   "source": [
    "'''Select your (hyper)parameters here'''\n",
    "\n",
    "# If selected false, only tests on validation data, otherwise creates submission .csv\n",
    "CREATE_SUBMISSION = True \n",
    "\n",
    "# Select if you want to use preprocessed data or not\n",
    "PREPROCESS = False\n",
    "\n",
    "# Select the number of ngrams you want to use\n",
    "NGRAMS = 4 \n",
    "\n",
    "# Choose a submission file postfix (so that you don't overwrite your results)\n",
    "SUBMISSION_POSTFIX = '_full' "
   ]
  },
  {
   "cell_type": "code",
   "execution_count": 6,
   "metadata": {},
   "outputs": [],
   "source": [
    "tweets, test = fth.load_data(full=True)"
   ]
  },
  {
   "cell_type": "code",
   "execution_count": 7,
   "metadata": {},
   "outputs": [],
   "source": [
    "if PREPROCESS == True:\n",
    "    tweets['body'] = pp.preprocess_data(tweets['body'])\n",
    "    test['body'] = pp.preprocess_data(test['body'])"
   ]
  },
  {
   "cell_type": "code",
   "execution_count": 8,
   "metadata": {},
   "outputs": [],
   "source": [
    "train, val = fth.train_val_split(tweets['body'], tweets['label'], 0.2, 42)"
   ]
  },
  {
   "cell_type": "code",
   "execution_count": 9,
   "metadata": {},
   "outputs": [],
   "source": [
    "train, val, test = fth.reindex_dfs(CREATE_SUBMISSION, train, val, test)"
   ]
  },
  {
   "cell_type": "code",
   "execution_count": 10,
   "metadata": {},
   "outputs": [],
   "source": [
    "train_txt, val_txt, test_txt = fth.save_txt(train, val, test, SUBMISSION_POSTFIX, CREATE_SUBMISSION)"
   ]
  },
  {
   "cell_type": "code",
   "execution_count": 11,
   "metadata": {},
   "outputs": [],
   "source": [
    "model = fasttext.train_supervised(input=train_txt, lr=1.0, epoch=1, wordNgrams=NGRAMS)"
   ]
  },
  {
   "cell_type": "code",
   "execution_count": 12,
   "metadata": {},
   "outputs": [
    {
     "data": {
      "text/plain": [
       "(500000, 0.865314, 0.865314)"
      ]
     },
     "execution_count": 12,
     "metadata": {},
     "output_type": "execute_result"
    }
   ],
   "source": [
    "model.test(val_txt)"
   ]
  },
  {
   "cell_type": "code",
   "execution_count": 13,
   "metadata": {},
   "outputs": [
    {
     "data": {
      "text/plain": [
       "[0.9898786544799805,\n",
       " 0.5681026577949524,\n",
       " 0.6663926839828491,\n",
       " 0.832999050617218,\n",
       " 0.9534883499145508]"
      ]
     },
     "execution_count": 13,
     "metadata": {},
     "output_type": "execute_result"
    }
   ],
   "source": [
    "# Can be used for ensemble classifiers\n",
    "predictions, probabilities = fth.get_prediction_probabilities(model, test)\n",
    "probabilities[0:5]"
   ]
  },
  {
   "cell_type": "code",
   "execution_count": 14,
   "metadata": {},
   "outputs": [],
   "source": [
    "if CREATE_SUBMISSION == True:\n",
    "    filename = 'output' + SUBMISSION_POSTFIX + '.csv'\n",
    "    fth.create_csv_submission(model, test, filename)"
   ]
  },
  {
   "cell_type": "markdown",
   "metadata": {},
   "source": [
    "## Results\n",
    "\n",
    "### w/o hyperparameter tuning:\n",
    "\n",
    "- dataset=small: (60000, 0.82505, 0.82505)\n",
    "- dataset=full: (750000, 0.8355986666666667, 0.8355986666666667)\n",
    "\n",
    "### w/ some hyperparameter tuning:\n",
    "- dataset=small, lr=1.0, epoch=1, wordNgrams=3: (60000, 0.8371166666666666, 0.8371166666666666)\n",
    "- dataset=full, lr=1.0, epoch=1, wordNgrams=3: (750000, 0.8639346666666666, 0.8639346666666666)\n",
    "- dataset=full, lr=0.3, epoch=1, wordNgrams=3: (750000, 0.86366, 0.86366)\n",
    "- dataset=full, lr=0.3, epoch=20, wordNgrams=3: (750000, 0.847332, 0.847332)\n",
    "- dataset=full, lr=1.0, epoch=1, wordNgrams=4: (750000, 0.86412, 0.86412)\n",
    "- dataset=full, lr=1.0, epoch=1, wordNgrams=5: (750000, 0.8628946666666667, 0.8628946666666667)\n",
    "- dataset=full, lr=1.0, epoch=1, wordNgrams=6: (750000, 0.8615613333333333, 0.8615613333333333)\n",
    "- dataset=full, lr=1.0, epoch=1, wordNgrams=7: (750000, 0.860692, 0.860692)\n",
    "- dataset=full, lr=1.0, epoch=1, wordNgrams=8: (750000, 0.859468, 0.859468)\n",
    "- dataset=full, lr=1.0, epoch=100, wordNgrams=4: 750000, 0.8457546666666667, 0.8457546666666667)\n",
    "- dataset=full, lr=1.0, epoch=1: (750000, 0.8324173333333333, 0.8324173333333333)\n",
    "- dataset=full, lr=1.0, epoch=10: (750000, 0.792976, 0.792976)\n",
    "- Best parameters: lr=1.0, epoch=1, ngrams=4"
   ]
  },
  {
   "cell_type": "markdown",
   "metadata": {},
   "source": [
    "To continue, apply the methods suggested in this tutorial: https://fasttext.cc/docs/en/supervised-tutorial.html\n",
    "\n",
    "More FastText documentation here: https://fasttext.cc"
   ]
  }
 ],
 "metadata": {
  "kernelspec": {
   "display_name": "Python 3",
   "language": "python",
   "name": "python3"
  },
  "language_info": {
   "codemirror_mode": {
    "name": "ipython",
    "version": 3
   },
   "file_extension": ".py",
   "mimetype": "text/x-python",
   "name": "python",
   "nbconvert_exporter": "python",
   "pygments_lexer": "ipython3",
   "version": "3.7.6"
  }
 },
 "nbformat": 4,
 "nbformat_minor": 4
}
