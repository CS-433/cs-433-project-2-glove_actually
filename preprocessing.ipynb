{
 "cells": [
  {
   "cell_type": "code",
   "execution_count": 1,
   "metadata": {},
   "outputs": [],
   "source": [
    "import preprocessing as pp\n",
    "import numpy as np\n",
    "import pandas as pd"
   ]
  },
  {
   "cell_type": "code",
   "execution_count": 28,
   "metadata": {},
   "outputs": [],
   "source": [
    "# Testing if the preprocessing functions work\n",
    "tweet_arr = np.array([\"?? xxx ? xx I've #happy\",\n",
    "                \"Hi, Mr. predsident:-)\", \"these are on sale for $ 10.00 ! ill-conditioned hesitate he's positive\",\n",
    "                \"<user> <user> lol chloe :') ill teach yous to cook , you'll be pros by the end of it !\", \n",
    "                \"<user> they're the best cookies that i've tried . but ig you don't even like chewy cookies , so maybe they wouldn't appeal to you\",\n",
    "                \"rt <user> she step on that girl like a centipede . > stomp her like a grape to make wine .\",\n",
    "                \"    lol    <3lol<3\",\n",
    "                'school is gonna be so boring tomorrow because judy & <user> will not be there .',\n",
    "                \"omg hahaha\", \" my days been very long had a sickkk driving lesson :'( though :d ahahahahah :d xx\",\n",
    "                \"hahahahaha xxx\",\n",
    "                \"yes hahahahah x XXX yayyyy looooong <3 :p cooooool lollll lollipop lols looools ....\",\n",
    "                \"ahahah\", \"I have 5000.5 unicorns in my garden\",\n",
    "                \"! friday is payday & 4/20 ? ? hell yeah #reasons2dothebirdmanhandrub\",\n",
    "                \"<user> nice ! ! congrats . ! ! ! :p today i failed a math test and a physic test . fuck\",\n",
    "                \"apple ipod touch 8 gb 4th generation ( white <url>\",\n",
    "                \"i felt ittt ! ! ! it woke me up it was scaryyy\",\n",
    "                \"<user> could i ask that you follow me ? i'd like to send you a couple of dm's . many thanks\",\n",
    "                \"( rt <user> unfol deh rt theresiadevip gitu deh rt <user> yg * sensor * itu ? rt theresiadevip ( cont ) \",\n",
    "                \"charlie rose ( november 4 , 2008 live coverage of the 2008 presidential election with doris kearns goodwin , mark ... <url>\"])\n",
    "tweets = pd.Series(tweet_arr)\n",
    "tweets = pp.preprocess_data(tweets)"
   ]
  },
  {
   "cell_type": "code",
   "execution_count": 29,
   "metadata": {},
   "outputs": [
    {
     "name": "stdout",
     "output_type": "stream",
     "text": [
      "?? xxx ? xx I've #happy\n",
      "? <emphasize> <kisses> ? <kisses> <hashtag> happy\n",
      "\n",
      "Hi, Mr. predsident:-)\n",
      "Hi, Mr. predsident:-)\n",
      "\n",
      "these are on sale for $ 10.00 ! ill-conditioned hesitate he's positive\n",
      "sale <number> ! ill-conditioned hesitate positive\n",
      "\n",
      "<user> <user> lol chloe :') ill teach yous to cook , you'll be pros by the end of it !\n",
      "<lolexpr> chloe <smile> teach yous cook pros end !\n",
      "\n",
      "<user> they're the best cookies that i've tried . but ig you don't even like chewy cookies , so maybe they wouldn't appeal to you\n",
      "best cooky try ig not even like chewy cooky maybe would not appeal\n",
      "\n",
      "rt <user> she step on that girl like a centipede . > stomp her like a grape to make wine .\n",
      "step girl like centipede stomp like grape make wine\n",
      "\n",
      "    lol    <3lol<3\n",
      "<lolexpr> <love> <lolexpr> <love>\n",
      "\n",
      "school is gonna be so boring tomorrow because judy & <user> will not be there .\n",
      "school gonna boring tomorrow judy not\n",
      "\n",
      "omg hahaha\n",
      "<omg> <lolexpr>\n",
      "\n",
      " my days been very long had a sickkk driving lesson :'( though :d ahahahahah :d xx\n",
      "day very long sickk driving lesson <sadface> though <laughface> <lolexpr> <laughface> <kisses>\n",
      "\n",
      "hahahahaha xxx\n",
      "<lolexpr> <kisses>\n",
      "\n",
      "yes hahahahah x XXX yayyyy looooong <3 :p cooooool lollll lollipop lols looools ....\n",
      "yes <lolexpr> <kisses> yayy loong <love> <laughface> cool <lolexpr> lollipop <lolexpr> <lolexpr> \n",
      "\n",
      "ahahah\n",
      "<lolexpr>\n",
      "\n",
      "I have 5000.5 unicorns in my garden\n",
      "<number> unicorn garden\n",
      "\n",
      "! friday is payday & 4/20 ? ? hell yeah #reasons2dothebirdmanhandrub\n",
      "! friday payday <number> ? <emphasize> hell yeah <hashtag> \n",
      "\n",
      "<user> nice ! ! congrats . ! ! ! :p today i failed a math test and a physic test . fuck\n",
      "nice ! <emphasize> congrats ! <emphasize> <laughface> today fail math test physic test fuck\n",
      "\n",
      "apple ipod touch 8 gb 4th generation ( white <url>\n",
      "apple ipod touch <number> gb generation white\n",
      "\n",
      "i felt ittt ! ! ! it woke me up it was scaryyy\n",
      "felt itt ! <emphasize> wake up scaryy\n",
      "\n",
      "<user> could i ask that you follow me ? i'd like to send you a couple of dm's . many thanks\n",
      "could ask follow ? would like send couple dm many thanks\n",
      "\n",
      "( rt <user> unfol deh rt theresiadevip gitu deh rt <user> yg * sensor * itu ? rt theresiadevip ( cont ) \n",
      "rt unfol deh rt theresiadevip gitu deh rt yg sensor itu ? rt theresiadevip cont\n",
      "\n",
      "charlie rose ( november 4 , 2008 live coverage of the 2008 presidential election with doris kearns goodwin , mark ... <url>\n",
      "charlie rise november <number> <number> live coverage <number> presidential election doris kearns goodwin mark \n",
      "\n"
     ]
    }
   ],
   "source": [
    "# Printing before and after preprocessing --> they work properly \n",
    "for i in range(len(tweets)):\n",
    "    print(tweet_arr[i])\n",
    "    print(tweets[i] + '\\n')\n"
   ]
  },
  {
   "cell_type": "code",
   "execution_count": null,
   "metadata": {},
   "outputs": [],
   "source": []
  }
 ],
 "metadata": {
  "kernelspec": {
   "display_name": "Python 3",
   "language": "python",
   "name": "python3"
  },
  "language_info": {
   "codemirror_mode": {
    "name": "ipython",
    "version": 3
   },
   "file_extension": ".py",
   "mimetype": "text/x-python",
   "name": "python",
   "nbconvert_exporter": "python",
   "pygments_lexer": "ipython3",
   "version": "3.8.3"
  }
 },
 "nbformat": 4,
 "nbformat_minor": 4
}
