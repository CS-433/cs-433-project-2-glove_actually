{
 "cells": [
  {
   "cell_type": "code",
   "execution_count": 9,
   "metadata": {},
   "outputs": [
    {
     "data": {
      "text/html": [
       "<div>\n",
       "<style scoped>\n",
       "    .dataframe tbody tr th:only-of-type {\n",
       "        vertical-align: middle;\n",
       "    }\n",
       "\n",
       "    .dataframe tbody tr th {\n",
       "        vertical-align: top;\n",
       "    }\n",
       "\n",
       "    .dataframe thead th {\n",
       "        text-align: right;\n",
       "    }\n",
       "</style>\n",
       "<table border=\"1\" class=\"dataframe\">\n",
       "  <thead>\n",
       "    <tr style=\"text-align: right;\">\n",
       "      <th></th>\n",
       "      <th>body</th>\n",
       "      <th>label</th>\n",
       "    </tr>\n",
       "  </thead>\n",
       "  <tbody>\n",
       "    <tr>\n",
       "      <td>0</td>\n",
       "      <td>&lt;user&gt; i dunno justin read my mention or not ....</td>\n",
       "      <td>1</td>\n",
       "    </tr>\n",
       "    <tr>\n",
       "      <td>1</td>\n",
       "      <td>because your logic is so dumb , i won't even c...</td>\n",
       "      <td>1</td>\n",
       "    </tr>\n",
       "    <tr>\n",
       "      <td>2</td>\n",
       "      <td>\" &lt;user&gt; just put casper in a box ! \" looved t...</td>\n",
       "      <td>1</td>\n",
       "    </tr>\n",
       "    <tr>\n",
       "      <td>3</td>\n",
       "      <td>&lt;user&gt; &lt;user&gt; thanks sir &gt; &gt; don't trip lil ma...</td>\n",
       "      <td>1</td>\n",
       "    </tr>\n",
       "    <tr>\n",
       "      <td>4</td>\n",
       "      <td>visiting my brother tmr is the bestest birthda...</td>\n",
       "      <td>1</td>\n",
       "    </tr>\n",
       "    <tr>\n",
       "      <td>...</td>\n",
       "      <td>...</td>\n",
       "      <td>...</td>\n",
       "    </tr>\n",
       "    <tr>\n",
       "      <td>99995</td>\n",
       "      <td>can't wait to fake tan tonight ! hate being pale</td>\n",
       "      <td>-1</td>\n",
       "    </tr>\n",
       "    <tr>\n",
       "      <td>99996</td>\n",
       "      <td>&lt;user&gt; darling i lost my internet connection ....</td>\n",
       "      <td>-1</td>\n",
       "    </tr>\n",
       "    <tr>\n",
       "      <td>99997</td>\n",
       "      <td>kanguru defender basic 4 gb usb 2.0 flash driv...</td>\n",
       "      <td>-1</td>\n",
       "    </tr>\n",
       "    <tr>\n",
       "      <td>99998</td>\n",
       "      <td>rizan is sad now</td>\n",
       "      <td>-1</td>\n",
       "    </tr>\n",
       "    <tr>\n",
       "      <td>99999</td>\n",
       "      <td>no text back ? yea , he mad</td>\n",
       "      <td>-1</td>\n",
       "    </tr>\n",
       "  </tbody>\n",
       "</table>\n",
       "<p>200000 rows × 2 columns</p>\n",
       "</div>"
      ],
      "text/plain": [
       "                                                    body  label\n",
       "0      <user> i dunno justin read my mention or not ....      1\n",
       "1      because your logic is so dumb , i won't even c...      1\n",
       "2      \" <user> just put casper in a box ! \" looved t...      1\n",
       "3      <user> <user> thanks sir > > don't trip lil ma...      1\n",
       "4      visiting my brother tmr is the bestest birthda...      1\n",
       "...                                                  ...    ...\n",
       "99995   can't wait to fake tan tonight ! hate being pale     -1\n",
       "99996  <user> darling i lost my internet connection ....     -1\n",
       "99997  kanguru defender basic 4 gb usb 2.0 flash driv...     -1\n",
       "99998                                   rizan is sad now     -1\n",
       "99999                        no text back ? yea , he mad     -1\n",
       "\n",
       "[200000 rows x 2 columns]"
      ]
     },
     "execution_count": 9,
     "metadata": {},
     "output_type": "execute_result"
    }
   ],
   "source": [
    "import preprocessing as pp\n",
    "import pandas as pd\n",
    "import numpy as np\n",
    "import matplotlib.pyplot as plt\n",
    "import seaborn as sns\n",
    "from nltk import pos_tag, word_tokenize\n",
    "from nltk.probability import FreqDist\n",
    "from wordcloud import WordCloud, STOPWORDS, ImageColorGenerator\n",
    "\n",
    "def load_data(full = True):\n",
    "    \"\"\"\n",
    "    Loads the Twitter data.\n",
    "    \n",
    "    Args:\n",
    "    full (bool): if False, loads only a part of the data\n",
    "    \n",
    "    Returns:\n",
    "    tweets (pandas dataframe): positive and negative tweets with labels\n",
    "    test_data: unlabelled data for testing\n",
    "    \"\"\"\n",
    "    FULL = ''  \n",
    "    if full:\n",
    "        FULL = '_full'\n",
    "        \n",
    "    POS_TWEETS = 'train_pos.txt'\n",
    "    NEG_TWEETS = 'train_neg.txt'\n",
    "    TEST_DATA = 'test_data.txt'\n",
    "    \n",
    "    with open(POS_TWEETS) as file:\n",
    "        pos_tweets_data = [line.rstrip() for line in file]\n",
    "    pos_tweets = pd.DataFrame(pos_tweets_data, columns=['body'])\n",
    "    pos_tweets['label'] = 1\n",
    "\n",
    "    with open(NEG_TWEETS) as file:\n",
    "        neg_tweets_data = [line.rstrip() for line in file]\n",
    "    neg_tweets = pd.DataFrame(neg_tweets_data, columns=['body'])\n",
    "    neg_tweets['label'] = -1\n",
    "\n",
    "    with open(TEST_DATA) as file:\n",
    "        # removes id at the same time\n",
    "        test_data = [line.rstrip().split(',', 1)[1] for line in file]\n",
    "\n",
    "    test_data = pd.DataFrame(test_data, columns=['body'])\n",
    "\n",
    "    # merge positive and negative datasets\n",
    "    tweets = pd.concat([pos_tweets, neg_tweets], axis = 0)\n",
    "    \n",
    "    return tweets, test_data\n",
    "\n",
    "tweets_raw, test_data_raw = load_data(full = False)\n",
    "\n",
    "tweets_raw"
   ]
  },
  {
   "cell_type": "code",
   "execution_count": 10,
   "metadata": {},
   "outputs": [
    {
     "name": "stdout",
     "output_type": "stream",
     "text": [
      "                                                    body  label\n",
      "0      <user> i dunno justin read my mention or not ....      1\n",
      "1      because your logic is so dumb , i won't even c...      1\n",
      "2      \" <user> just put casper in a box ! \" looved t...      1\n",
      "3      <user> <user> thanks sir > > don't trip lil ma...      1\n",
      "4      visiting my brother tmr is the bestest birthda...      1\n",
      "...                                                  ...    ...\n",
      "99995   can't wait to fake tan tonight ! hate being pale     -1\n",
      "99996  <user> darling i lost my internet connection ....     -1\n",
      "99997  kanguru defender basic 4 gb usb 2.0 flash driv...     -1\n",
      "99998                                   rizan is sad now     -1\n",
      "99999                        no text back ? yea , he mad     -1\n",
      "\n",
      "[200000 rows x 2 columns]\n"
     ]
    }
   ],
   "source": [
    "tweets = tweets_raw.copy()\n",
    "# tweets['body'] = pp.preprocess_data(tweets['body'])\n",
    "print(tweets)"
   ]
  },
  {
   "cell_type": "code",
   "execution_count": 11,
   "metadata": {},
   "outputs": [],
   "source": [
    "from sklearn.model_selection import train_test_split\n",
    "from sklearn.feature_extraction.text import CountVectorizer, TfidfVectorizer\n",
    "from sklearn.metrics import accuracy_score, f1_score, precision_score, recall_score, classification_report\n",
    "from sklearn.linear_model import LogisticRegression\n",
    "\n",
    "def cv(data):\n",
    "    count_vectorizer = CountVectorizer()\n",
    "\n",
    "    emb = count_vectorizer.fit_transform(data)\n",
    "\n",
    "    return emb, count_vectorizer\n",
    "\n",
    "def tfidf(data):\n",
    "    tfidf_vectorizer = TfidfVectorizer(analyzer = 'char', ngram_range=(1,4), min_df = 1, max_features = 50000)\n",
    "\n",
    "    train = tfidf_vectorizer.fit_transform(data)\n",
    "\n",
    "    return train, tfidf_vectorizer\n",
    "\n",
    "def get_metrics(y_test, y_predicted):  \n",
    "    # true positives / (true positives+false positives)\n",
    "    precision = precision_score(y_test, y_predicted, pos_label=None,\n",
    "                                    average='weighted')             \n",
    "    # true positives / (true positives + false negatives)\n",
    "    recall = recall_score(y_test, y_predicted, pos_label=None,\n",
    "                              average='weighted')\n",
    "    \n",
    "    # harmonic mean of precision and recall\n",
    "    f1 = f1_score(y_test, y_predicted, pos_label=None, average='weighted')\n",
    "    \n",
    "    # true positives + true negatives/ total\n",
    "    accuracy = accuracy_score(y_test, y_predicted)\n",
    "    return accuracy, precision, recall, f1"
   ]
  },
  {
   "cell_type": "code",
   "execution_count": 12,
   "metadata": {},
   "outputs": [],
   "source": [
    "X = tweets[\"body\"]\n",
    "y = tweets[\"label\"].values\n",
    "\n",
    "X_train, X_test, y_train, y_test = train_test_split(X, y, test_size=0.2, random_state=0)\n",
    "\n",
    "#bow\n",
    "X_train_counts, count_vectorizer = cv(X_train)\n",
    "X_test_counts = count_vectorizer.transform(X_test)\n",
    "#tf-idf\n",
    "X_train_tfidf, tfidf_vectorizer = tfidf(X_train)\n",
    "X_test_tfidf = tfidf_vectorizer.transform(X_test)"
   ]
  },
  {
   "cell_type": "code",
   "execution_count": 13,
   "metadata": {},
   "outputs": [
    {
     "name": "stdout",
     "output_type": "stream",
     "text": [
      " Lambda | Validation accuracy | Training accuracy \n",
      "0.00000 |              0.7960 |            0.9240\n",
      "0.00000 |              0.8031 |            0.9171\n",
      "0.00000 |              0.8135 |            0.9160\n",
      "0.00000 |              0.8235 |            0.9073\n",
      "0.00000 |              0.8273 |            0.9000\n",
      "0.00000 |              0.8321 |            0.8901\n",
      "0.00000 |              0.8357 |            0.8796\n",
      "0.00000 |              0.8361 |            0.8678\n",
      "0.00001 |              0.8328 |            0.8551\n",
      "0.00002 |              0.8279 |            0.8431\n",
      "0.00004 |              0.8175 |            0.8278\n",
      "0.00008 |              0.8026 |            0.8099\n",
      "0.00019 |              0.7855 |            0.7896\n",
      "0.00044 |              0.7616 |            0.7651\n",
      "0.00100 |              0.7388 |            0.7409\n"
     ]
    }
   ],
   "source": [
    "# logreg using tfidf\n",
    "from sklearn.linear_model import SGDClassifier\n",
    "from sklearn.preprocessing import StandardScaler\n",
    "from sklearn.pipeline import make_pipeline\n",
    "\n",
    "alphas = np.logspace(-8, -3, 15)\n",
    "\n",
    "print(\"%7s | %19s | %17s \" % (\"Lambda\",\"Validation accuracy\",\"Training accuracy\"))\n",
    "    \n",
    "for a in alphas: \n",
    "    clf_pre = SGDClassifier(loss = 'log', alpha = a, random_state=0, n_jobs=-1, verbose=False).fit(X_train_tfidf, y_train)\n",
    "    print(\"%7.5f | %19.4f | %17.4f\" % (a, \n",
    "                                       clf_pre.score(X_test_tfidf, y_test), \n",
    "                                       clf_pre.score(X_train_tfidf, y_train)))"
   ]
  },
  {
   "cell_type": "code",
   "execution_count": 14,
   "metadata": {},
   "outputs": [
    {
     "data": {
      "text/plain": [
       "array([[14672,  5415],\n",
       "       [ 5033, 14880]])"
      ]
     },
     "execution_count": 14,
     "metadata": {},
     "output_type": "execute_result"
    }
   ],
   "source": [
    "from sklearn.metrics import confusion_matrix, roc_curve, auc\n",
    "confusion_matrix(y_test, clf_pre.predict(X_test_tfidf))"
   ]
  },
  {
   "cell_type": "code",
   "execution_count": 15,
   "metadata": {},
   "outputs": [],
   "source": [
    "# random forest using tf-idf\n",
    "n_estimators = [50, 150, 300]"
   ]
  },
  {
   "cell_type": "code",
   "execution_count": 16,
   "metadata": {},
   "outputs": [
    {
     "name": "stdout",
     "output_type": "stream",
     "text": [
      "      N | Validation accuracy | Training accuracy | Max depth\n",
      "     50 |              0.8069 |            0.9999 |       370\n",
      "    150 |              0.8136 |            0.9999 |       405\n",
      "    300 |              0.8146 |            0.9999 |       415\n"
     ]
    }
   ],
   "source": [
    "train_res_pre = []\n",
    "val_res_pre = []\n",
    "\n",
    "print(\"%7s | %19s | %17s | %9s\" % (\"N\",\"Validation accuracy\",\"Training accuracy\", \"Max depth\"))\n",
    "\n",
    "for n in n_estimators:\n",
    "    rf_pre = RandomForestClassifier(n_estimators=n, \n",
    "                                    n_jobs=-1, \n",
    "                                    random_state=0,\n",
    "                                    verbose=False).fit(X_train_tfidf, y_train)\n",
    "    print(\"%7.0f | %19.4f | %17.4f | %9.0f\" % (n, \n",
    "                                       rf_pre.score(X_test_tfidf, y_test), \n",
    "                                       rf_pre.score(X_train_tfidf, y_train),\n",
    "                                       max([x.tree_.max_depth for x in rf_pre.estimators_])))\n",
    "    \n",
    "    fpr, tpr, _ = roc_curve(y_train, rf_pre.predict(X_train_tfidf))\n",
    "    roc_auc = auc(fpr,tpr)\n",
    "    train_res_pre.append(roc_auc)\n",
    "    \n",
    "    fpr, tpr, _ = roc_curve(y_test, rf_pre.predict(X_test_tfidf))\n",
    "    roc_auc = auc(fpr,tpr)\n",
    "    val_res_pre.append(roc_auc)"
   ]
  },
  {
   "cell_type": "code",
   "execution_count": 17,
   "metadata": {},
   "outputs": [
    {
     "data": {
      "image/png": "[encoded data removed]",
      "text/plain": [
       "<Figure size 432x288 with 1 Axes>"
      ]
     },
     "metadata": {
      "needs_background": "light"
     },
     "output_type": "display_data"
    }
   ],
   "source": [
    "plt.plot(n_estimators, val_res_pre)\n",
    "plt.ylabel('AUC')\n",
    "plt.xlabel('N')\n",
    "plt.title('AUC vs number of trees (validation)')\n",
    "plt.show()"
   ]
  },
  {
   "cell_type": "code",
   "execution_count": 18,
   "metadata": {},
   "outputs": [
    {
     "name": "stdout",
     "output_type": "stream",
     "text": [
      "Max depth | Validation accuracy | Training accuracy \n",
      "       10 |              0.7204 |            0.7315\n",
      "       20 |              0.7661 |            0.8254\n",
      "       30 |              0.7897 |            0.9059\n",
      "       40 |              0.8004 |            0.9530\n",
      "       50 |              0.8065 |            0.9768\n",
      "       60 |              0.8076 |            0.9883\n",
      "       70 |              0.8101 |            0.9940\n",
      "       80 |              0.8114 |            0.9969\n",
      "       90 |              0.8117 |            0.9983\n",
      "      100 |              0.8122 |            0.9992\n"
     ]
    }
   ],
   "source": [
    "# tune max_depth\n",
    "from sklearn.ensemble import RandomForestClassifier\n",
    "\n",
    "max_depths = np.linspace(10, 100, 10)\n",
    "\n",
    "print(\"%9s | %19s | %17s \" % (\"Max depth\",\"Validation accuracy\",\"Training accuracy\"))\n",
    "\n",
    "for d in max_depths:\n",
    "    rf_pre = RandomForestClassifier(n_estimators=150, \n",
    "                                     max_depth=d,\n",
    "                                     n_jobs=-1, \n",
    "                                     random_state=0,\n",
    "                                     verbose=False).fit(X_train_tfidf, y_train)\n",
    "    print(\"%9.0f | %19.4f | %17.4f\" % (d, \n",
    "                                       rf_pre.score(X_test_tfidf, y_test), \n",
    "                                       rf_pre.score(X_train_tfidf, y_train)))"
   ]
  },
  {
   "cell_type": "code",
   "execution_count": 19,
   "metadata": {},
   "outputs": [
    {
     "name": "stdout",
     "output_type": "stream",
     "text": [
      "  Alpha | Validation accuracy | Training accuracy \n",
      "0.00000 |              0.8141 |            0.9199\n",
      "0.00000 |              0.8230 |            0.9158\n",
      "0.00000 |              0.8283 |            0.9074\n",
      "0.00000 |              0.8316 |            0.8951\n",
      "0.00000 |              0.8350 |            0.8842\n",
      "0.00001 |              0.8373 |            0.8712\n",
      "0.00002 |              0.8362 |            0.8599\n",
      "0.00004 |              0.8299 |            0.8453\n",
      "0.00008 |              0.8218 |            0.8324\n",
      "0.00019 |              0.8083 |            0.8144\n",
      "0.00043 |              0.7899 |            0.7943\n",
      "0.00100 |              0.7653 |            0.7686\n"
     ]
    }
   ],
   "source": [
    "# svm using tfidf\n",
    "alphas = np.logspace(-7, -3, 12)\n",
    "\n",
    "print(\"%7s | %19s | %17s \" % (\"Alpha\",\"Validation accuracy\",\"Training accuracy\"))\n",
    "    \n",
    "for a in alphas: \n",
    "    svm_pre = SGDClassifier(loss = 'hinge', alpha = a, random_state=0, n_jobs=-1, verbose=False).fit(X_train_tfidf, y_train)\n",
    "    print(\"%7.5f | %19.4f | %17.4f\" % (a, \n",
    "                                       svm_pre.score(X_test_tfidf, y_test), \n",
    "                                       svm_pre.score(X_train_tfidf, y_train)))"
   ]
  },
  {
   "cell_type": "code",
   "execution_count": 20,
   "metadata": {},
   "outputs": [
    {
     "name": "stdout",
     "output_type": "stream",
     "text": [
      " Lambda | Validation accuracy | Training accuracy \n",
      "0.00000 |              0.7890 |            0.8883\n",
      "0.00000 |              0.7977 |            0.8904\n",
      "0.00000 |              0.7948 |            0.8644\n",
      "0.00000 |              0.8013 |            0.8613\n",
      "0.00001 |              0.8079 |            0.8616\n",
      "0.00001 |              0.8055 |            0.8510\n",
      "0.00002 |              0.8050 |            0.8379\n",
      "0.00003 |              0.8062 |            0.8356\n",
      "0.00005 |              0.8027 |            0.8271\n",
      "0.00008 |              0.8002 |            0.8203\n",
      "0.00014 |              0.7957 |            0.8112\n",
      "0.00023 |              0.7909 |            0.8034\n",
      "0.00037 |              0.7869 |            0.7963\n",
      "0.00061 |              0.7797 |            0.7868\n",
      "0.00100 |              0.7728 |            0.7778\n"
     ]
    }
   ],
   "source": [
    "# logreg using bow\n",
    "alphas = np.logspace(-6, -3, 15)\n",
    "\n",
    "print(\"%7s | %19s | %17s \" % (\"Lambda\",\"Validation accuracy\",\"Training accuracy\"))\n",
    "    \n",
    "for a in alphas: \n",
    "    clf_bow = SGDClassifier(loss = 'log', alpha = a, random_state=0, n_jobs=-1, verbose=False).fit(X_train_counts, y_train)\n",
    "    print(\"%7.5f | %19.4f | %17.4f\" % (a, \n",
    "                                       clf_bow.score(X_test_counts, y_test), \n",
    "                                       clf_bow.score(X_train_counts, y_train)))"
   ]
  },
  {
   "cell_type": "code",
   "execution_count": 21,
   "metadata": {},
   "outputs": [
    {
     "name": "stdout",
     "output_type": "stream",
     "text": [
      "      N | Validation accuracy | Training accuracy | Max depth\n",
      "     50 |              0.8067 |            0.9995 |      1671\n",
      "    150 |              0.8120 |            0.9995 |      1737\n",
      "    300 |              0.8135 |            0.9995 |      1737\n"
     ]
    }
   ],
   "source": [
    "# random forest using bow\n",
    "train_res_bow = []\n",
    "val_res_bow = []\n",
    "\n",
    "print(\"%7s | %19s | %17s | %9s\" % (\"N\",\"Validation accuracy\",\"Training accuracy\", \"Max depth\"))\n",
    "\n",
    "for n in n_estimators:\n",
    "    rf_bow = RandomForestClassifier(n_estimators=n, \n",
    "                                    n_jobs=-1, \n",
    "                                    random_state=0,\n",
    "                                    verbose=False).fit(X_train_counts, y_train)\n",
    "    print(\"%7.0f | %19.4f | %17.4f | %9.0f\" % (n, \n",
    "                                       rf_bow.score(X_test_counts, y_test), \n",
    "                                       rf_bow.score(X_train_counts, y_train),\n",
    "                                       max([x.tree_.max_depth for x in rf_bow.estimators_])))\n",
    "    \n",
    "    fpr2, tpr2, _ = roc_curve(y_train, rf_bow.predict(X_train_counts))\n",
    "    roc_auc2 = auc(fpr2,tpr2)\n",
    "    train_res_bow.append(roc_auc2)\n",
    "    \n",
    "    fpr2, tpr2, _ = roc_curve(y_test, rf_bow.predict(X_test_counts))\n",
    "    roc_auc2 = auc(fpr2,tpr2)\n",
    "    val_res_bow.append(roc_auc2)"
   ]
  },
  {
   "cell_type": "code",
   "execution_count": 22,
   "metadata": {},
   "outputs": [
    {
     "data": {
      "image/png": "[encoded data removed]",
      "text/plain": [
       "<Figure size 432x288 with 1 Axes>"
      ]
     },
     "metadata": {
      "needs_background": "light"
     },
     "output_type": "display_data"
    }
   ],
   "source": [
    "plt.plot(n_estimators, val_res_bow)\n",
    "plt.ylabel('AUC')\n",
    "plt.xlabel('N')\n",
    "plt.title('AUC vs number of trees (validation)')\n",
    "plt.show()"
   ]
  },
  {
   "cell_type": "code",
   "execution_count": 23,
   "metadata": {},
   "outputs": [
    {
     "name": "stdout",
     "output_type": "stream",
     "text": [
      "Max depth | Validation accuracy | Training accuracy \n",
      "       10 |              0.7172 |            0.7265\n",
      "       20 |              0.7302 |            0.7484\n",
      "       30 |              0.7350 |            0.7597\n",
      "       40 |              0.7459 |            0.7817\n",
      "       50 |              0.7475 |            0.7960\n",
      "       60 |              0.7539 |            0.8144\n",
      "       70 |              0.7597 |            0.8340\n",
      "       80 |              0.7651 |            0.8508\n",
      "       90 |              0.7727 |            0.8683\n",
      "      100 |              0.7750 |            0.8808\n"
     ]
    }
   ],
   "source": [
    "# tune max_depth\n",
    "max_depths = np.linspace(10, 100, 10)\n",
    "\n",
    "print(\"%9s | %19s | %17s \" % (\"Max depth\",\"Validation accuracy\",\"Training accuracy\"))\n",
    "\n",
    "for d in max_depths:\n",
    "    rf_bow = RandomForestClassifier(n_estimators=150, \n",
    "                                     max_depth=d,\n",
    "                                     n_jobs=-1, \n",
    "                                     random_state=0,\n",
    "                                     verbose=False).fit(X_train_counts, y_train)\n",
    "    print(\"%9.0f | %19.4f | %17.4f\" % (d, \n",
    "                                       rf_bow.score(X_test_counts, y_test), \n",
    "                                       rf_bow.score(X_train_counts, y_train)))"
   ]
  },
  {
   "cell_type": "code",
   "execution_count": 24,
   "metadata": {},
   "outputs": [
    {
     "name": "stdout",
     "output_type": "stream",
     "text": [
      "  Alpha | Validation accuracy | Training accuracy \n",
      "0.00000 |              0.7815 |            0.8935\n",
      "0.00000 |              0.7930 |            0.9021\n",
      "0.00000 |              0.7913 |            0.8899\n",
      "0.00001 |              0.8025 |            0.8875\n",
      "0.00001 |              0.8055 |            0.8755\n",
      "0.00002 |              0.8025 |            0.8528\n",
      "0.00004 |              0.8087 |            0.8493\n",
      "0.00008 |              0.8023 |            0.8315\n",
      "0.00015 |              0.7999 |            0.8227\n",
      "0.00028 |              0.7949 |            0.8120\n",
      "0.00053 |              0.7875 |            0.8000\n",
      "0.00100 |              0.7789 |            0.7882\n"
     ]
    }
   ],
   "source": [
    "# svm using bow\n",
    "alphas = np.logspace(-6, -3, 12)\n",
    "\n",
    "print(\"%7s | %19s | %17s \" % (\"Alpha\",\"Validation accuracy\",\"Training accuracy\"))\n",
    "\n",
    "for a in alphas: \n",
    "    svm_bow = SGDClassifier(loss = 'hinge', alpha = a, random_state=0, n_jobs=-1, verbose=False).fit(X_train_counts, y_train)\n",
    "    print(\"%7.5f | %19.4f | %17.4f\" % (a, \n",
    "                                       svm_bow.score(X_test_counts, y_test), \n",
    "                                       svm_bow.score(X_train_counts, y_train)))"
   ]
  }
 ],
 "metadata": {
  "kernelspec": {
   "display_name": "Python 3",
   "language": "python",
   "name": "python3"
  },
  "language_info": {
   "codemirror_mode": {
    "name": "ipython",
    "version": 3
   },
   "file_extension": ".py",
   "mimetype": "text/x-python",
   "name": "python",
   "nbconvert_exporter": "python",
   "pygments_lexer": "ipython3",
   "version": "3.7.4"
  }
 },
 "nbformat": 4,
 "nbformat_minor": 2
}
