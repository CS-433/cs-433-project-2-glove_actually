{
 "cells": [
  {
   "cell_type": "code",
   "execution_count": 1,
   "metadata": {},
   "outputs": [],
   "source": [
    "import os\n",
    "import sys\n",
    "module_path = os.path.abspath(os.path.join('..'))\n",
    "if module_path not in sys.path:\n",
    "    sys.path.append(module_path)\n",
    "import src.load as load\n",
    "import src.representations as rep\n",
    "import nltk\n",
    "from sklearn.utils import shuffle\n",
    "from sklearn.linear_model import LogisticRegression, SGDClassifier\n",
    "from sklearn.model_selection import train_test_split\n",
    "from sklearn.metrics import confusion_matrix, roc_curve, auc\n",
    "from sklearn.ensemble import RandomForestClassifier\n",
    "from sklearn.svm import SVC\n",
    "import pandas as pd\n",
    "import numpy as np"
   ]
  },
  {
   "cell_type": "code",
   "execution_count": 3,
   "metadata": {},
   "outputs": [],
   "source": [
    "# load development set\n",
    "tweets, test_data = load.load_data(full = False, preprocessed=False)"
   ]
  },
  {
   "cell_type": "code",
   "execution_count": null,
   "metadata": {},
   "outputs": [],
   "source": [
    "path = 'data/glove.twitter.27B.200d.txt'\n",
    "glove_pre = rep.glove_pretrained(path)"
   ]
  },
  {
   "cell_type": "code",
   "execution_count": 63,
   "metadata": {},
   "outputs": [],
   "source": [
    "path2 = 'data/embeddings.txt'\n",
    "glove_self = rep.glove_pretrained(path2)"
   ]
  },
  {
   "cell_type": "code",
   "execution_count": 64,
   "metadata": {},
   "outputs": [],
   "source": [
    "y = tweets['label'].values"
   ]
  },
  {
   "cell_type": "code",
   "execution_count": 65,
   "metadata": {},
   "outputs": [],
   "source": [
    "X_pretrained = rep.map_glove(tweets['body'], glove_pre)\n",
    "X_selftrained = rep.map_glove(tweets['body'], glove_self)"
   ]
  },
  {
   "cell_type": "code",
   "execution_count": 66,
   "metadata": {},
   "outputs": [],
   "source": [
    "X_train_pre, X_val_pre, y_train_pre, y_val_pre = train_test_split(X_pretrained, y, test_size=0.2, random_state=0)\n",
    "X_train_self, X_val_self, y_train_self, y_val_self = train_test_split(X_selftrained, y, test_size=0.2, random_state=0)"
   ]
  },
  {
   "cell_type": "code",
   "execution_count": 67,
   "metadata": {},
   "outputs": [],
   "source": [
    "def standardize(xtrain, xtest):\n",
    "    \n",
    "    means = np.mean(xtrain, axis=0)\n",
    "    stds = np.std(xtrain, axis=0)\n",
    "    \n",
    "    xtrain_std = (xtrain-means)/stds\n",
    "    xtest_std = (xtest-means)/stds\n",
    "    \n",
    "    return xtrain_std, xtest_std"
   ]
  },
  {
   "cell_type": "code",
   "execution_count": 68,
   "metadata": {},
   "outputs": [],
   "source": [
    "X_train_pre_std, X_val_pre_std = standardize(X_train_pre, X_val_pre)"
   ]
  },
  {
   "cell_type": "code",
   "execution_count": 69,
   "metadata": {},
   "outputs": [],
   "source": [
    "X_train_self_std, X_val_self_std = standardize(X_train_self, X_val_self)"
   ]
  },
  {
   "cell_type": "markdown",
   "metadata": {},
   "source": [
    "# SVM"
   ]
  },
  {
   "cell_type": "code",
   "execution_count": 87,
   "metadata": {},
   "outputs": [
    {
     "name": "stdout",
     "output_type": "stream",
     "text": [
      "      C | Validation accuracy | Training accuracy \n",
      "0.00001 |              0.6630 |            0.6678\n",
      "0.00005 |              0.6806 |            0.6893\n",
      "0.00027 |              0.6902 |            0.6958\n",
      "0.00139 |              0.6972 |            0.7030\n",
      "0.00720 |              0.6986 |            0.7035\n",
      "0.03728 |              0.6989 |            0.7029\n",
      "0.19307 |              0.6942 |            0.6977\n",
      "1.00000 |              0.6789 |            0.6821\n"
     ]
    }
   ],
   "source": [
    "# selftrained\n",
    "alphas_svm = np.logspace(-5,0,8)\n",
    "\n",
    "print(\"%7s | %19s | %17s \" % (\"C\",\"Validation accuracy\",\"Training accuracy\"))\n",
    "    \n",
    "for a in alphas_svm: \n",
    "    svm_self = SGDClassifier(loss = 'hinge', alpha = a, random_state=0, n_jobs=-1, verbose=False).fit(X_train_self_std, y_train_pre)\n",
    "    print(\"%7.5f | %19.4f | %17.4f\" % (a, \n",
    "                                       svm_self.score(X_val_self_std, y_val_pre), \n",
    "                                       svm_self.score(X_train_self_std, y_train_pre)))"
   ]
  },
  {
   "cell_type": "code",
   "execution_count": 88,
   "metadata": {},
   "outputs": [
    {
     "name": "stdout",
     "output_type": "stream",
     "text": [
      "      C | Validation accuracy | Training accuracy \n",
      "0.00001 |              0.7555 |            0.7606\n",
      "0.00005 |              0.7650 |            0.7683\n",
      "0.00027 |              0.7785 |            0.7794\n",
      "0.00139 |              0.7832 |            0.7833\n",
      "0.00720 |              0.7832 |            0.7854\n",
      "0.03728 |              0.7809 |            0.7829\n",
      "0.19307 |              0.7736 |            0.7736\n",
      "1.00000 |              0.7451 |            0.7482\n"
     ]
    }
   ],
   "source": [
    "# pretrained\n",
    "alphas_svm = np.logspace(-5,0,8)\n",
    "\n",
    "print(\"%7s | %19s | %17s \" % (\"C\",\"Validation accuracy\",\"Training accuracy\"))\n",
    "    \n",
    "for a in alphas_svm: \n",
    "    svm_pre = SGDClassifier(loss = 'hinge', alpha = a, random_state=0, n_jobs=-1, verbose=False).fit(X_train_pre_std, y_train_pre)\n",
    "    print(\"%7.5f | %19.4f | %17.4f\" % (a, \n",
    "                                       svm_pre.score(X_val_pre_std, y_val_pre), \n",
    "                                       svm_pre.score(X_train_pre_std, y_train_pre)))"
   ]
  },
  {
   "cell_type": "markdown",
   "metadata": {},
   "source": [
    "# LOGREG"
   ]
  },
  {
   "cell_type": "code",
   "execution_count": 89,
   "metadata": {},
   "outputs": [
    {
     "name": "stdout",
     "output_type": "stream",
     "text": [
      " Lambda | Validation accuracy | Training accuracy \n",
      "0.00032 |              0.7785 |            0.7783\n",
      "0.00052 |              0.7789 |            0.7813\n",
      "0.00085 |              0.7805 |            0.7821\n",
      "0.00139 |              0.7802 |            0.7822\n",
      "0.00228 |              0.7810 |            0.7829\n",
      "0.00373 |              0.7813 |            0.7828\n",
      "0.00611 |              0.7801 |            0.7820\n",
      "0.01000 |              0.7793 |            0.7814\n"
     ]
    }
   ],
   "source": [
    "# pretrained\n",
    "alphas = np.logspace(-3.5,-2, 8)\n",
    "\n",
    "print(\"%7s | %19s | %17s \" % (\"Lambda\",\"Validation accuracy\",\"Training accuracy\"))\n",
    "    \n",
    "for a in alphas: \n",
    "    clf_pre = SGDClassifier(loss = 'log', alpha = a, random_state=0, n_jobs=-1, verbose=False).fit(X_train_pre_std, y_train_pre)\n",
    "    print(\"%7.5f | %19.4f | %17.4f\" % (a, \n",
    "                                       clf_pre.score(X_val_pre_std, y_val_pre), \n",
    "                                       clf_pre.score(X_train_pre_std, y_train_pre)))"
   ]
  },
  {
   "cell_type": "code",
   "execution_count": 91,
   "metadata": {},
   "outputs": [
    {
     "name": "stdout",
     "output_type": "stream",
     "text": [
      " Lambda | Validation accuracy | Training accuracy \n",
      "0.00001 |              0.6628 |            0.6676\n",
      "0.00004 |              0.6862 |            0.6900\n",
      "0.00014 |              0.6841 |            0.6894\n",
      "0.00052 |              0.6854 |            0.6910\n",
      "0.00193 |              0.6906 |            0.6956\n",
      "0.00720 |              0.6916 |            0.6964\n",
      "0.02683 |              0.6915 |            0.6958\n",
      "0.10000 |              0.6867 |            0.6905\n"
     ]
    }
   ],
   "source": [
    "# selftrained\n",
    "alphas = np.logspace(-5,-1,8)\n",
    "\n",
    "print(\"%7s | %19s | %17s \" % (\"Lambda\",\"Validation accuracy\",\"Training accuracy\"))\n",
    "    \n",
    "for a in alphas: \n",
    "    clf_self = SGDClassifier(loss = 'log', alpha = a, random_state=0, n_jobs=-1, verbose=False).fit(X_train_self_std, y_train_pre)\n",
    "    print(\"%7.5f | %19.4f | %17.4f\" % (a, \n",
    "                                       clf_self.score(X_val_self_std, y_val_pre), \n",
    "                                       clf_self.score(X_train_self_std, y_train_pre)))"
   ]
  },
  {
   "cell_type": "markdown",
   "metadata": {},
   "source": [
    "# RANDOM FORREST"
   ]
  },
  {
   "cell_type": "code",
   "execution_count": 92,
   "metadata": {},
   "outputs": [],
   "source": [
    "n_estimators = [50, 150, 300, 500, 1000]"
   ]
  },
  {
   "cell_type": "code",
   "execution_count": 93,
   "metadata": {},
   "outputs": [
    {
     "name": "stdout",
     "output_type": "stream",
     "text": [
      "      N | Validation accuracy | Training accuracy | Max depth\n",
      "     50 |              0.7719 |            0.9998 |        51\n",
      "    150 |              0.7841 |            0.9998 |        52\n",
      "    300 |              0.7882 |            0.9998 |        52\n",
      "    500 |              0.7893 |            0.9998 |        52\n",
      "   1000 |              0.7905 |            0.9998 |        62\n"
     ]
    }
   ],
   "source": [
    "# pretrained\n",
    "train_res_pre = []\n",
    "val_res_pre = []\n",
    "\n",
    "print(\"%7s | %19s | %17s | %9s\" % (\"N\",\"Validation accuracy\",\"Training accuracy\", \"Max depth\"))\n",
    "\n",
    "for n in n_estimators:\n",
    "    rf_pre = RandomForestClassifier(n_estimators=n, \n",
    "                                    n_jobs=-1, \n",
    "                                    random_state=0,\n",
    "                                    verbose=False).fit(X_train_pre, y_train_pre)\n",
    "    print(\"%7.0f | %19.4f | %17.4f | %9.0f\" % (n, \n",
    "                                       rf_pre.score(X_val_pre, y_val_pre), \n",
    "                                       rf_pre.score(X_train_pre, y_train_pre),\n",
    "                                       max([x.tree_.max_depth for x in rf_pre.estimators_])))\n",
    "    \n",
    "    fpr, tpr, _ = roc_curve(y_train_pre, rf_pre.predict(X_train_pre))\n",
    "    roc_auc = auc(fpr,tpr)\n",
    "    train_res_pre.append(roc_auc)\n",
    "    \n",
    "    fpr, tpr, _ = roc_curve(y_val_pre, rf_pre.predict(X_val_pre))\n",
    "    roc_auc = auc(fpr,tpr)\n",
    "    val_res_pre.append(roc_auc)"
   ]
  },
  {
   "cell_type": "code",
   "execution_count": 94,
   "metadata": {},
   "outputs": [
    {
     "data": {
      "image/png": "[encoded data removed]",
      "text/plain": [
       "<Figure size 432x288 with 1 Axes>"
      ]
     },
     "metadata": {
      "needs_background": "light"
     },
     "output_type": "display_data"
    }
   ],
   "source": [
    "plt.plot(n_estimators, val_res_pre)\n",
    "plt.ylabel('AUC')\n",
    "plt.xlabel('N')\n",
    "plt.title('AUC vs number of trees (validation)')\n",
    "plt.show()"
   ]
  },
  {
   "cell_type": "code",
   "execution_count": 95,
   "metadata": {},
   "outputs": [
    {
     "name": "stdout",
     "output_type": "stream",
     "text": [
      "Max depth | Validation accuracy | Training accuracy \n",
      "       10 |              0.7539 |            0.8017\n",
      "       20 |              0.7834 |            0.9977\n",
      "       30 |              0.7824 |            0.9998\n",
      "       40 |              0.7833 |            0.9998\n",
      "       50 |              0.7839 |            0.9998\n",
      "       60 |              0.7841 |            0.9998\n",
      "       70 |              0.7841 |            0.9998\n",
      "       80 |              0.7841 |            0.9998\n",
      "       90 |              0.7841 |            0.9998\n",
      "      100 |              0.7841 |            0.9998\n"
     ]
    }
   ],
   "source": [
    "# tune max_depth\n",
    "max_depths = np.linspace(10, 100, 10)\n",
    "\n",
    "print(\"%9s | %19s | %17s \" % (\"Max depth\",\"Validation accuracy\",\"Training accuracy\"))\n",
    "\n",
    "for d in max_depths:\n",
    "    rf_pre = RandomForestClassifier(n_estimators=150, \n",
    "                                     max_depth=d,\n",
    "                                     n_jobs=-1, \n",
    "                                     random_state=0,\n",
    "                                     verbose=False).fit(X_train_pre, y_train_pre)\n",
    "    print(\"%9.0f | %19.4f | %17.4f\" % (d, \n",
    "                                       rf_pre.score(X_val_pre, y_val_pre), \n",
    "                                       rf_pre.score(X_train_pre, y_train_pre)))"
   ]
  },
  {
   "cell_type": "code",
   "execution_count": 96,
   "metadata": {},
   "outputs": [
    {
     "name": "stdout",
     "output_type": "stream",
     "text": [
      "      N | Validation accuracy | Training accuracy | Max depth\n",
      "     50 |              0.7084 |            0.9967 |        53\n",
      "    150 |              0.7213 |            0.9967 |        57\n",
      "    300 |              0.7260 |            0.9968 |        61\n",
      "    500 |              0.7273 |            0.9967 |        61\n",
      "   1000 |              0.7296 |            0.9967 |        61\n"
     ]
    }
   ],
   "source": [
    "# selftrained\n",
    "\n",
    "train_res_self = []\n",
    "val_res_self = []\n",
    "\n",
    "print(\"%7s | %19s | %17s | %9s\" % (\"N\",\"Validation accuracy\",\"Training accuracy\", \"Max depth\"))\n",
    "\n",
    "for n in n_estimators:\n",
    "    rf_self = RandomForestClassifier(n_estimators=n, \n",
    "                                    n_jobs=-1, \n",
    "                                    random_state=0,\n",
    "                                    verbose=False).fit(X_train_\n",
    "                                                       self, y_train_self)\n",
    "    print(\"%7.0f | %19.4f | %17.4f | %9.0f\" % (n, \n",
    "                                                rf_self.score(X_val_self, y_val_self), \n",
    "                                                rf_self.score(X_train_self, y_train_self),\n",
    "                                                max([x.tree_.max_depth for x in rf_self.estimators_])))\n",
    "    \n",
    "    fpr, tpr, thres = roc_curve(y_train_self, rf_self.predict(X_train_self))\n",
    "    roc_auc = auc(fpr,tpr)\n",
    "    train_res_self.append(roc_auc)\n",
    "    \n",
    "    fpr, tpr, thres = roc_curve(y_val_self, rf_self.predict(X_val_self))\n",
    "    roc_auc = auc(fpr,tpr)\n",
    "    val_res_self.append(roc_auc)"
   ]
  },
  {
   "cell_type": "code",
   "execution_count": 97,
   "metadata": {},
   "outputs": [
    {
     "data": {
      "image/png": "[encoded data removed]",
      "text/plain": [
       "<Figure size 432x288 with 1 Axes>"
      ]
     },
     "metadata": {
      "needs_background": "light"
     },
     "output_type": "display_data"
    }
   ],
   "source": [
    "plt.plot(n_estimators, val_res_self)\n",
    "plt.ylabel('AUC')\n",
    "plt.xlabel('N')\n",
    "plt.title('AUC vs number of trees (validation)')\n",
    "plt.show()"
   ]
  },
  {
   "cell_type": "code",
   "execution_count": 98,
   "metadata": {},
   "outputs": [
    {
     "name": "stdout",
     "output_type": "stream",
     "text": [
      "Max depth | Validation accuracy | Training accuracy \n",
      "       10 |              0.6987 |            0.7731\n",
      "       20 |              0.7247 |            0.9950\n",
      "       30 |              0.7272 |            0.9965\n",
      "       40 |              0.7248 |            0.9967\n",
      "       50 |              0.7245 |            0.9968\n",
      "       60 |              0.7258 |            0.9968\n",
      "       70 |              0.7260 |            0.9968\n",
      "       80 |              0.7260 |            0.9968\n",
      "       90 |              0.7260 |            0.9968\n",
      "      100 |              0.7260 |            0.9968\n"
     ]
    }
   ],
   "source": [
    "# tune max_depth\n",
    "max_depths = np.linspace(10, 100, 10)\n",
    "\n",
    "print(\"%9s | %19s | %17s \" % (\"Max depth\",\"Validation accuracy\",\"Training accuracy\"))\n",
    "\n",
    "for d in max_depths:\n",
    "    rf_self = RandomForestClassifier(n_estimators=300, \n",
    "                                     max_depth=d,\n",
    "                                     n_jobs=-1, \n",
    "                                     random_state=0,\n",
    "                                     verbose=False).fit(X_train_self, y_train_self)\n",
    "    print(\"%9.0f | %19.4f | %17.4f\" % (d, \n",
    "                                       rf_self.score(X_val_self, y_val_self), \n",
    "                                       rf_self.score(X_train_self, y_train_self)))"
   ]
  },
  {
   "cell_type": "code",
   "execution_count": 6,
   "metadata": {},
   "outputs": [],
   "source": [
    "# load full dataset\n",
    "tweets_full_raw, test_data_raw = load.load_data(full = True, preprocessed = False)\n",
    "bodies_full = tweets_full_raw['body']\n",
    "y_full = tweets_full_raw['label'].values\n",
    "\n",
    "# load test data\n",
    "test_bodies = test_data_raw['body']"
   ]
  },
  {
   "cell_type": "code",
   "execution_count": 133,
   "metadata": {},
   "outputs": [],
   "source": [
    "# map tokens to embeddings\n",
    "X_full_pre = rep.map_glove(bodies_full, glove_pre)\n",
    "X_full_self = rep.map_glove(bodies_full, glove_self)"
   ]
  },
  {
   "cell_type": "code",
   "execution_count": 134,
   "metadata": {},
   "outputs": [],
   "source": [
    "X_test_pre = rep.map_glove(test_bodies, glove_pre)\n",
    "X_test_self = rep.map_glove(test_bodies, glove_self)"
   ]
  },
  {
   "cell_type": "code",
   "execution_count": 135,
   "metadata": {},
   "outputs": [
    {
     "data": {
      "text/plain": [
       "(2500000, 200)"
      ]
     },
     "execution_count": 135,
     "metadata": {},
     "output_type": "execute_result"
    }
   ],
   "source": [
    "X_full_self.shape"
   ]
  },
  {
   "cell_type": "code",
   "execution_count": 136,
   "metadata": {},
   "outputs": [],
   "source": [
    "# standardize\n",
    "X_full_pre_std, X_test_pre_std = standardize(X_full_pre, X_test_pre)"
   ]
  },
  {
   "cell_type": "code",
   "execution_count": 137,
   "metadata": {},
   "outputs": [],
   "source": [
    "X_full_self_std, X_test_self_std = standardize(X_full_self, X_test_self)"
   ]
  },
  {
   "cell_type": "markdown",
   "metadata": {},
   "source": [
    "# SVM"
   ]
  },
  {
   "cell_type": "code",
   "execution_count": 139,
   "metadata": {},
   "outputs": [],
   "source": [
    "# 0.694\n",
    "# selftrained\n",
    "alphas_svm = np.logspace(-5,0,8)\n",
    "\n",
    "svm_self = SGDClassifier(loss = 'hinge', \n",
    "                            random_state=0, \n",
    "                            alpha = alphas[5], \n",
    "                            n_jobs=-1).fit(X_full_self_std, y_full)\n",
    "y_pred = svm_self.predict(X_test_self_std)"
   ]
  },
  {
   "cell_type": "code",
   "execution_count": 150,
   "metadata": {},
   "outputs": [],
   "source": [
    "# 0.779\n",
    "# pretrained\n",
    "alphas_svm = np.logspace(-5,0,8)\n",
    "\n",
    "\n",
    "svm_pre = SGDClassifier(loss = 'hinge', \n",
    "                            random_state=0, \n",
    "                            alpha = alphas[4], \n",
    "                            n_jobs=-1).fit(X_full_pre_std, y_full)\n",
    "y_pred2 = svm_pre.predict(X_test_pre_std)"
   ]
  },
  {
   "cell_type": "markdown",
   "metadata": {},
   "source": [
    "# LOGREG"
   ]
  },
  {
   "cell_type": "code",
   "execution_count": 151,
   "metadata": {},
   "outputs": [],
   "source": [
    "# 0.774\n",
    "alphas = np.logspace(-3.5,-2, 8)\n",
    "\n",
    "logreg_pre = SGDClassifier(loss = 'log', \n",
    "                           alpha = alphas[5], \n",
    "                           random_state=0, \n",
    "                           n_jobs=-1).fit(X_full_pre_std, y_full)\n",
    "y_pred3 = logreg_pre.predict(X_test_pre_std)"
   ]
  },
  {
   "cell_type": "code",
   "execution_count": 154,
   "metadata": {},
   "outputs": [],
   "source": [
    "# 0.687\n",
    "alphas = np.logspace(-5,-1,8)\n",
    "\n",
    "logreg_self = SGDClassifier(loss = 'log', \n",
    "                            random_state=0, \n",
    "                            alpha = alphas[5], \n",
    "                            n_jobs=-1).fit(X_full_self_std, y_full)\n",
    "y_pred4 = logreg_self.predict(X_test_self_std)"
   ]
  },
  {
   "cell_type": "markdown",
   "metadata": {},
   "source": [
    "# RANDOM FOREST"
   ]
  },
  {
   "cell_type": "code",
   "execution_count": 155,
   "metadata": {},
   "outputs": [],
   "source": [
    "# 0.777\n",
    "rf_pre = RandomForestClassifier(n_estimators=150, \n",
    "                                     max_depth=20,\n",
    "                                     n_jobs=-1, \n",
    "                                     random_state=0).fit(X_full_pre, y_full)\n",
    "y_pred5 = rf_pre.predict(X_test_pre)"
   ]
  },
  {
   "cell_type": "code",
   "execution_count": 156,
   "metadata": {},
   "outputs": [],
   "source": [
    "# 0.729\n",
    "rf_self = RandomForestClassifier(n_estimators=300, \n",
    "                                     max_depth=30,\n",
    "                                     n_jobs=-1, \n",
    "                                     random_state=0).fit(X_full_self, y_full)\n",
    "y_pred6 = rf_self.predict(X_test_self)"
   ]
  },
  {
   "cell_type": "code",
   "execution_count": 157,
   "metadata": {},
   "outputs": [],
   "source": [
    "create_csv_submission(test_data_raw.index + 1, y_pred, './data/submissions/svm-selftrained-glove.txt')\n",
    "create_csv_submission(test_data_raw.index + 1, y_pred2, './data/submissions/svm-pretrained-glove.txt')\n",
    "create_csv_submission(test_data_raw.index + 1, y_pred3, './data/submissions/logreg-pretrained-glove.txt')\n",
    "create_csv_submission(test_data_raw.index + 1, y_pred4, './data/submissions/logreg-selftrained-glove.txt')\n",
    "create_csv_submission(test_data_raw.index + 1, y_pred5, './data/submissions/rf-pretrained-glove.txt')\n",
    "create_csv_submission(test_data_raw.index + 1, y_pred6, './data/submissions/rf-selftrained-glove.txt')"
   ]
  }
 ],
 "metadata": {
  "kernelspec": {
   "display_name": "Python 3",
   "language": "python",
   "name": "python3"
  },
  "language_info": {
   "codemirror_mode": {
    "name": "ipython",
    "version": 3
   },
   "file_extension": ".py",
   "mimetype": "text/x-python",
   "name": "python",
   "nbconvert_exporter": "python",
   "pygments_lexer": "ipython3",
   "version": "3.8.3"
  }
 },
 "nbformat": 4,
 "nbformat_minor": 2
}
