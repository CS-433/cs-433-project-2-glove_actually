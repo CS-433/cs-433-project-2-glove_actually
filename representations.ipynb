{
 "cells": [
  {
   "cell_type": "code",
   "execution_count": 1,
   "metadata": {},
   "outputs": [],
   "source": [
    "from utils import load\n",
    "import preprocessing as pp\n",
    "import representations as rep"
   ]
  },
  {
   "cell_type": "code",
   "execution_count": 2,
   "metadata": {},
   "outputs": [],
   "source": [
    "tweets_raw, test_data_raw = load.load_data(full = False)"
   ]
  },
  {
   "cell_type": "code",
   "execution_count": 3,
   "metadata": {},
   "outputs": [
    {
     "data": {
      "text/html": [
       "<div>\n",
       "<style scoped>\n",
       "    .dataframe tbody tr th:only-of-type {\n",
       "        vertical-align: middle;\n",
       "    }\n",
       "\n",
       "    .dataframe tbody tr th {\n",
       "        vertical-align: top;\n",
       "    }\n",
       "\n",
       "    .dataframe thead th {\n",
       "        text-align: right;\n",
       "    }\n",
       "</style>\n",
       "<table border=\"1\" class=\"dataframe\">\n",
       "  <thead>\n",
       "    <tr style=\"text-align: right;\">\n",
       "      <th></th>\n",
       "      <th>body</th>\n",
       "      <th>label</th>\n",
       "    </tr>\n",
       "  </thead>\n",
       "  <tbody>\n",
       "    <tr>\n",
       "      <th>0</th>\n",
       "      <td>&lt;user&gt; i dunno justin read my mention or not ....</td>\n",
       "      <td>1</td>\n",
       "    </tr>\n",
       "    <tr>\n",
       "      <th>1</th>\n",
       "      <td>because your logic is so dumb , i won't even c...</td>\n",
       "      <td>1</td>\n",
       "    </tr>\n",
       "    <tr>\n",
       "      <th>2</th>\n",
       "      <td>\" &lt;user&gt; just put casper in a box ! \" looved t...</td>\n",
       "      <td>1</td>\n",
       "    </tr>\n",
       "    <tr>\n",
       "      <th>3</th>\n",
       "      <td>&lt;user&gt; &lt;user&gt; thanks sir &gt; &gt; don't trip lil ma...</td>\n",
       "      <td>1</td>\n",
       "    </tr>\n",
       "    <tr>\n",
       "      <th>4</th>\n",
       "      <td>visiting my brother tmr is the bestest birthda...</td>\n",
       "      <td>1</td>\n",
       "    </tr>\n",
       "  </tbody>\n",
       "</table>\n",
       "</div>"
      ],
      "text/plain": [
       "                                                body  label\n",
       "0  <user> i dunno justin read my mention or not ....      1\n",
       "1  because your logic is so dumb , i won't even c...      1\n",
       "2  \" <user> just put casper in a box ! \" looved t...      1\n",
       "3  <user> <user> thanks sir > > don't trip lil ma...      1\n",
       "4  visiting my brother tmr is the bestest birthda...      1"
      ]
     },
     "execution_count": 3,
     "metadata": {},
     "output_type": "execute_result"
    }
   ],
   "source": [
    "tweets_raw.head()"
   ]
  },
  {
   "cell_type": "code",
   "execution_count": 4,
   "metadata": {},
   "outputs": [
    {
     "data": {
      "text/plain": [
       "(200000, 2)"
      ]
     },
     "execution_count": 4,
     "metadata": {},
     "output_type": "execute_result"
    }
   ],
   "source": [
    "tweets_raw.shape"
   ]
  },
  {
   "cell_type": "code",
   "execution_count": 5,
   "metadata": {},
   "outputs": [],
   "source": [
    "tweets = tweets_raw.copy()\n",
    "tweets['body'] = pp.preprocess_data(tweets['body'])   # takes 3-4 minutes"
   ]
  },
  {
   "cell_type": "code",
   "execution_count": 6,
   "metadata": {},
   "outputs": [
    {
     "name": "stdout",
     "output_type": "stream",
     "text": [
      "0        not know justin read mention not only justin g...\n",
      "1                  logic dumb not even crop name photo tsk\n",
      "2        put casper box ! looved battle ! <hashtag> cra...\n",
      "3        thanks sir not trip lil mama .. keep doin ya t...\n",
      "4        visit brother tmr bestest birthday gift eveerr...\n",
      "                               ...                        \n",
      "99995             cannot wait fake tan tonight ! hate pale\n",
      "99996    darling lose internet connection .. seem not c...\n",
      "99997    kanguru defender basic <number> gb usb <number...\n",
      "99998                                            rizan sad\n",
      "99999                               no text back ? yea mad\n",
      "Name: body, Length: 200000, dtype: object\n"
     ]
    }
   ],
   "source": [
    "print(tweets['body'])"
   ]
  },
  {
   "cell_type": "code",
   "execution_count": 7,
   "metadata": {},
   "outputs": [],
   "source": [
    "voc = rep.get_vocabulary(tweets['body'])"
   ]
  },
  {
   "cell_type": "code",
   "execution_count": 8,
   "metadata": {},
   "outputs": [
    {
     "data": {
      "text/plain": [
       "['julian',\n",
       " 'julie',\n",
       " 'juliet',\n",
       " 'july',\n",
       " 'jumbo',\n",
       " 'jump',\n",
       " 'jumper',\n",
       " 'jumping',\n",
       " 'jumpsuit',\n",
       " 'junction',\n",
       " 'june',\n",
       " 'jung',\n",
       " 'jungle',\n",
       " 'junho',\n",
       " 'junior',\n",
       " 'juniper',\n",
       " 'junk',\n",
       " 'jupiter',\n",
       " 'jurassic',\n",
       " 'jury',\n",
       " 'jus',\n",
       " 'juss',\n",
       " 'just',\n",
       " 'justice',\n",
       " 'justify',\n",
       " 'justin',\n",
       " 'justinbieber',\n",
       " 'justkidding',\n",
       " 'justmyluck',\n",
       " 'justsayin']"
      ]
     },
     "execution_count": 8,
     "metadata": {},
     "output_type": "execute_result"
    }
   ],
   "source": [
    "voc[7600:7630]"
   ]
  },
  {
   "cell_type": "code",
   "execution_count": null,
   "metadata": {},
   "outputs": [],
   "source": [
    "path = './data/glove.twitter.27B/glove.twitter.27B.200d.txt'\n",
    "glove_pretrained = rep.glove_pretrained(path)"
   ]
  },
  {
   "cell_type": "code",
   "execution_count": null,
   "metadata": {},
   "outputs": [],
   "source": [
    "glove_pretrained"
   ]
  },
  {
   "cell_type": "code",
   "execution_count": null,
   "metadata": {},
   "outputs": [],
   "source": [
    "features = rep.map_glove(tweets['body'], glove_pretrained)"
   ]
  },
  {
   "cell_type": "code",
   "execution_count": null,
   "metadata": {},
   "outputs": [],
   "source": [
    "features.shape"
   ]
  },
  {
   "cell_type": "code",
   "execution_count": null,
   "metadata": {},
   "outputs": [],
   "source": [
    "features[0].shape"
   ]
  },
  {
   "cell_type": "code",
   "execution_count": null,
   "metadata": {},
   "outputs": [],
   "source": []
  }
 ],
 "metadata": {
  "kernelspec": {
   "display_name": "Python 3",
   "language": "python",
   "name": "python3"
  },
  "language_info": {
   "codemirror_mode": {
    "name": "ipython",
    "version": 3
   },
   "file_extension": ".py",
   "mimetype": "text/x-python",
   "name": "python",
   "nbconvert_exporter": "python",
   "pygments_lexer": "ipython3",
   "version": "3.8.3"
  }
 },
 "nbformat": 4,
 "nbformat_minor": 4
}
